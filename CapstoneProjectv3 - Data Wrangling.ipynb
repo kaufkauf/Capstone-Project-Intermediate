{
 "cells": [
  {
   "cell_type": "markdown",
   "metadata": {},
   "source": [
    "# Capstone Project Data Wrangling\n",
    "*Kimberly Kaufman*  \n",
    "*June 15, 2019*\n",
    "  \n",
    "---\n",
    "\n",
    "### Introduction\n",
    "\n",
    "The following steps were taken to clean and wrangle one year's worth of outbound distribution and freight cost data related to Wiley's North American distribution center. This data has been extracted from a combination of proprietary relational database systems (via SQL) and archived csv files of monthly freight bills. The full dataset will be used to predict the future freight costs of physical book fulfillment through a supervised machine learning approach.\n",
    "\n",
    "For more details on this project, see the <a href=\"https://github.com/kaufkauf/Capstone-Project-Intermediate\">GitHub repository</a>."
   ]
  },
  {
   "cell_type": "markdown",
   "metadata": {},
   "source": [
    "### Data Structure\n",
    "\n",
    "The data for this project is available as 5 separate csv files.  Four of these files contain 3 months' each (or four quarters' total) worth of outbound volume data (read in below as \"vol\") and the fifth csv file contains 12 months' worth of freight cost data from Wiley's 3PL provider (read in below as \"freight\").  Both the consolidated volume and freight datasets represent the same 12 month time period of ship verify and 3PL interface dates, respectively, for May 2018 through April 2019 (as this represents Wiley's fiscal reporting year)."
   ]
  },
  {
   "cell_type": "code",
   "execution_count": 39,
   "metadata": {},
   "outputs": [
    {
     "name": "stdout",
     "output_type": "stream",
     "text": [
      "<class 'pandas.core.frame.DataFrame'>\n",
      "Int64Index: 1131645 entries, 0 to 280156\n",
      "Data columns (total 22 columns):\n",
      "CJDAT1                1131645 non-null int64\n",
      "IHINDT                1131645 non-null int64\n",
      "IHAEDT                1131645 non-null int64\n",
      "INVOICENO             1131645 non-null int64\n",
      "ISBN10                1131645 non-null object\n",
      "PRODUCT_LINE          1131645 non-null object\n",
      "GLOBAL_BUSINESS       1131645 non-null object\n",
      "BOOK_WEIGHT           1131645 non-null float64\n",
      "COLLECT_METHOD        1131645 non-null object\n",
      "CARRIER_CODE          1131645 non-null object\n",
      "PRIORITY_CODE         1131645 non-null object\n",
      "SHIP_METHOD           1131645 non-null object\n",
      "FREIGHT_TYPE          1048609 non-null object\n",
      "SHIP_COUNTRY_NAME     1131632 non-null object\n",
      "MARKET_OUTLET         1131645 non-null int64\n",
      "BATCH_NO              1131645 non-null object\n",
      "CARTON_QTY            1131645 non-null int64\n",
      "CARTONS_PER_PALLET    1131645 non-null int64\n",
      "TOTAL_UNITS           1131645 non-null int64\n",
      "TOTAL_LOOSE           1131645 non-null int64\n",
      "TOTAL_CARTONS         1131645 non-null int64\n",
      "TOTAL_PALLETS         1131645 non-null int64\n",
      "dtypes: float64(1), int64(11), object(10)\n",
      "memory usage: 198.6+ MB\n",
      "None\n",
      "<class 'pandas.core.frame.DataFrame'>\n",
      "RangeIndex: 129822 entries, 0 to 129821\n",
      "Data columns (total 7 columns):\n",
      "INVNUMBER      129822 non-null int64\n",
      "BILLDATE       129822 non-null int64\n",
      "INVDATE        129822 non-null int64\n",
      "INTDATE        129822 non-null int64\n",
      "PRODGRP        126313 non-null object\n",
      "SHIPWEIGHT     129822 non-null float64\n",
      "TOTALCHARGE    129822 non-null float64\n",
      "dtypes: float64(2), int64(4), object(1)\n",
      "memory usage: 6.9+ MB\n",
      "None\n"
     ]
    }
   ],
   "source": [
    "import pandas as pd\n",
    "import numpy as np\n",
    "\n",
    "# set working directory & read in files\n",
    "wd = 'C:/Users/kkaufman/Documents/Data Sci/Intermediate/Freight model/'\n",
    "vol1 = pd.read_csv(wd + 'FY19outboundv2 - Q1.csv', low_memory=False)\n",
    "vol2 = pd.read_csv(wd + 'FY19outboundv2 - Q2.csv', low_memory=False)\n",
    "vol3 = pd.read_csv(wd + 'FY19outboundv2 - Q3.csv', low_memory=False)\n",
    "vol4 = pd.read_csv(wd + 'FY19outboundv2 - Q4.csv', low_memory=False)\n",
    "vol = vol1.append([vol2,vol3,vol4])\n",
    "freight = pd.read_csv(wd + 'FY19freightcharges.csv', low_memory=False) \n",
    "\n",
    "# print the summary information for each data frame\n",
    "print(vol.info())\n",
    "print(freight.info())"
   ]
  },
  {
   "cell_type": "markdown",
   "metadata": {},
   "source": [
    "Note that each dataset has been read in as a Pandas data frame.  Our consolidated volume data frame contains 22 variables and 1,131,645 observations, whereas our freight data frame contains 7 variables and 129,822 observations.  These shapes are relatively normal for a couple of reasons: first, the freight charges have been rolled up to the invoice level whereas the volume information is at a line level detail; second, not all of our outbound volume incurs freight cost to Wiley. So, we would expect our volume data to have many more observations than our freight data.\n",
    "\n",
    "The join keys for these two data frames will be the 3PL interface date (represented by CJDAT1 in vol and by INTDATE in freight) and the invoice number (represented by INVOICENO in vol and by INVNUMBER in freight).  *Note that invoice date functions differently in each dataset and cannot be used as a join key.*\n",
    "\n",
    "At the end of our data wrangling, we will need to roll up the volume dataset to an invoice level before joining in the freight cost data, as it is not correct to assume the freight cost for each invoice splits evenly among each line.\n",
    "\n",
    "\n",
    "### Data Types\n",
    "\n",
    "The attributes of the volume dataset include:\n",
    "* 3 Product description variables\n",
    "    + ISBN10, product line, global business (categorical; object)\n",
    "* 13 Invoice level variables\n",
    "    + Invoice date (IHINDT), 3PL interface date (CJDAT1), ship verify date (IHAEDT) (continuous; integer)\n",
    "    + Invoice number (continuous; integer)\n",
    "    + Batch number (categorical; object)\n",
    "    + Carton quantity, cartons per pallet (continuous; integer)\n",
    "    + Outbound units, outbound loose, outbound cartons, outbound pallets (continuous; integer)\n",
    "    + Book weight (continuous; float)\n",
    "* 2 Customer demographic variables\n",
    "    + Market outlet, customer destination (categorical; object)\n",
    "* 4 Transportion variables\n",
    "    + Ship method, freight type, priority code, carrier code, collect y/n (categorical; object)\n",
    "    \n",
    "The attributes of the freight dataset include:\n",
    "* 1 Product description variables\n",
    "    + Product group (categorical)\n",
    "* 5 Invoice level variables\n",
    "    + Invoice date (INVDATE), 3PL interface date (INTDATE), billing date (BILLDATE) (continuous; integer)\n",
    "    + Invoice number (INVNUMBER) (continuous; integer)\n",
    "    + Shipment weight (continuous; float)\n",
    "* 1 Output variable / target\n",
    "    + Total charge (continuous; float)\n",
    "    \n",
    "For the purposes of EDA and data wrangling, both of these datasets have been read in with the correct data types.  It is possible that when it is time to fit the model, we will need to convert our \"collect y/n\" field in the volume dataset to a binary 1/0, but this determination can be made later down the line."
   ]
  },
  {
   "cell_type": "markdown",
   "metadata": {},
   "source": [
    "### Missing Values\n",
    "\n",
    "Luckily, the majority of the variables in both datasets are absent of missing values.  See below for a count of non-null observations to give a sense of this completeness."
   ]
  },
  {
   "cell_type": "code",
   "execution_count": 7,
   "metadata": {},
   "outputs": [
    {
     "name": "stdout",
     "output_type": "stream",
     "text": [
      "CJDAT1                1131645\n",
      "IHINDT                1131645\n",
      "IHAEDT                1131645\n",
      "INVOICENO             1131645\n",
      "ISBN10                1131645\n",
      "PRODUCT_LINE          1131645\n",
      "GLOBAL_BUSINESS       1131645\n",
      "BOOK_WEIGHT           1131645\n",
      "COLLECT_METHOD        1131645\n",
      "CARRIER_CODE          1131645\n",
      "PRIORITY_CODE         1131645\n",
      "SHIP_METHOD           1131645\n",
      "FREIGHT_TYPE          1048609\n",
      "SHIP_COUNTRY_NAME     1131632\n",
      "MARKET_OUTLET         1131645\n",
      "BATCH_NO              1131645\n",
      "CARTON_QTY            1131645\n",
      "CARTONS_PER_PALLET    1131645\n",
      "TOTAL_UNITS           1131645\n",
      "TOTAL_LOOSE           1131645\n",
      "TOTAL_CARTONS         1131645\n",
      "TOTAL_PALLETS         1131645\n",
      "dtype: int64\n",
      "INVNUMBER      129822\n",
      "BILLDATE       129822\n",
      "INVDATE        129822\n",
      "INTDATE        129822\n",
      "PRODGRP        126313\n",
      "SHIPWEIGHT     129822\n",
      "TOTALCHARGE    129822\n",
      "dtype: int64\n"
     ]
    }
   ],
   "source": [
    "# print a count of non-null values\n",
    "print(vol.count())\n",
    "print(freight.count())"
   ]
  },
  {
   "cell_type": "markdown",
   "metadata": {},
   "source": [
    "We can see that our volume data is almost entirely clean aside from some missing values in the \"freight type\" variable.  Our freight type variable has approximately 83,000 null values, which represents about 7% of the total dataset.  We can refresh ourselves on the meaning of the freight type variable by taking a look at its unique values below."
   ]
  },
  {
   "cell_type": "code",
   "execution_count": 8,
   "metadata": {},
   "outputs": [
    {
     "name": "stdout",
     "output_type": "stream",
     "text": [
      "['Domestic Ground Small Package ' 'Customer Pick Up              '\n",
      " 'GTW Ground Small Package      ' 'Subsidiary Ship Methods       ' nan\n",
      " 'GTW Ground Freight            ' 'Domestic Ground Freight       '\n",
      " \"Int'l Air Courier             \" 'Domestic Air Courier          '\n",
      " 'GTW Air Courier               ' \"Int'l Surface                 \"\n",
      " 'Domestic Air Freight          ']\n"
     ]
    }
   ],
   "source": [
    "print(vol['FREIGHT_TYPE'].unique())"
   ]
  },
  {
   "cell_type": "markdown",
   "metadata": {},
   "source": [
    "Since there is no immediately reliable way to make an assumption on what these missing values might be, we can impute them with a placeholder variable of \"Unknown.\"  It is also evident that the non-null freight type variables have a number of trailing spaces attached to the string, so we'll want to strip those spaces from the variable as well."
   ]
  },
  {
   "cell_type": "code",
   "execution_count": 9,
   "metadata": {},
   "outputs": [
    {
     "name": "stdout",
     "output_type": "stream",
     "text": [
      "1131645\n",
      "['Domestic Ground Small Package' 'Customer Pick Up'\n",
      " 'GTW Ground Small Package' 'Subsidiary Ship Methods' 'Unknown'\n",
      " 'GTW Ground Freight' 'Domestic Ground Freight' \"Int'l Air Courier\"\n",
      " 'Domestic Air Courier' 'GTW Air Courier' \"Int'l Surface\"\n",
      " 'Domestic Air Freight']\n"
     ]
    }
   ],
   "source": [
    "vol['FREIGHT_TYPE'] = vol['FREIGHT_TYPE'].str.strip().fillna('Unknown')\n",
    "print(vol['FREIGHT_TYPE'].count())\n",
    "print(vol['FREIGHT_TYPE'].unique())"
   ]
  },
  {
   "cell_type": "markdown",
   "metadata": {},
   "source": [
    "In addition to the missing freight type values, there are also exactly 13 missing values in our \"Ship Country Name\" field, which are negligible.  See below for the unique values of our Ship Country Name variable."
   ]
  },
  {
   "cell_type": "code",
   "execution_count": 10,
   "metadata": {},
   "outputs": [
    {
     "name": "stdout",
     "output_type": "stream",
     "text": [
      "['UNITED STATES                 ' 'CANADA                        '\n",
      " 'UNITED KINGDOM                ' 'JAPAN                         '\n",
      " 'AUSTRALIA                     ' 'SINGAPORE                     '\n",
      " 'BRAZIL                        ' 'MALAYSIA                      '\n",
      " 'CHINA                         ' 'TAIWAN                        '\n",
      " 'INDIA                         ' 'ANTIGUA & BARBUDA             '\n",
      " 'SWEDEN                        ' 'FOREIGN PURCHASE  (USA)       '\n",
      " 'SOUTH KOREA                   ' 'NETHERLANDS                   '\n",
      " 'CHILE                         ' 'PHILIPPINES                   '\n",
      " 'BELGIUM                       ' 'ITALY                         '\n",
      " 'FRANCE                        ' 'MEXICO                        '\n",
      " 'POLAND                        ' 'GERMANY                       '\n",
      " 'ARGENTINA                     ' 'SWITZERLAND                   '\n",
      " 'VIETNAM                       ' 'PERU                          '\n",
      " 'COLOMBIA                      ' 'GREECE                        '\n",
      " 'ROMANIA                       ' 'INDONESIA                     '\n",
      " 'DENMARK                       ' 'PANAMA                        '\n",
      " 'RUSSIA                        ' 'SOUTH AFRICA                  '\n",
      " 'THAILAND                      ' 'KUWAIT                        '\n",
      " 'EGYPT                         ' 'AUSTRIA                       '\n",
      " 'HONG KONG                     ' 'VIRGIN ISLANDS (US)           '\n",
      " 'CZECH REPUBLIC                ' 'JAMAICA                       '\n",
      " 'KAZAKHSTAN                    ' 'GUAM                          '\n",
      " 'SPAIN                         ' 'PUERTO RICO                   '\n",
      " 'NEW ZEALAND                   ' 'PAKISTAN                      '\n",
      " 'VENEZUELA                     ' 'TRINIDAD AND TOBAGO           '\n",
      " 'IRELAND                       ' 'SLOVENIA                      '\n",
      " 'SAUDI ARABIA                  ' nan 'BARBADOS                      '\n",
      " 'TANZANIA                      ' 'CYPRUS                        '\n",
      " 'FINLAND                       ' 'PORTUGAL                      '\n",
      " 'ISRAEL                        ' 'MACEDONIA                     '\n",
      " 'URUGUAY                       ' 'JORDAN                        '\n",
      " 'TURKEY                        ' 'ALGERIA                       '\n",
      " 'QATAR                         ' 'UNITED ARAB EMIRATES          '\n",
      " 'NORWAY                        ' 'COSTA RICA                    '\n",
      " 'KENYA                         ' 'BERMUDA                       '\n",
      " 'CAMBODIA                      ' 'CROATIA                       '\n",
      " 'CURACAO                       ' 'CAYMAN ISLANDS                '\n",
      " 'BAHAMAS                       ' 'GHANA                         '\n",
      " 'ECUADOR                       ' 'IRAN                          '\n",
      " 'BAHRAIN                       ' 'SAINT KITTS AND NEVIS         '\n",
      " 'LIBYA                         ' 'LATVIA                        '\n",
      " 'ESTONIA                       ' 'US MINOR OUTLYING ISLANDS     '\n",
      " 'LUXEMBOURG                    ' 'ICELAND                       '\n",
      " 'GEORGIA                       ' 'SIERRA LEONE                  '\n",
      " 'BULGARIA                      ' 'HUNGARY                       '\n",
      " 'MOROCCO                       ' 'GRENADA                       '\n",
      " 'BRUNEI                        ' 'ZAMBIA                        '\n",
      " 'AFGHANISTAN                   ' 'BELARUS                       '\n",
      " 'BANGLADESH                    ' 'LEBANON                       '\n",
      " 'BELIZE                        ' 'MONACO                        '\n",
      " 'NIGERIA                       ' 'GREENLAND                     '\n",
      " 'SLOVAK REPUBLIC               ' 'MONGOLIA                      '\n",
      " 'UGANDA                        ' 'JERSEY                        '\n",
      " 'MALTA                         ' 'OMAN                          '\n",
      " 'EL SALVADOR                   ' 'ARUBA                         '\n",
      " 'SERBIA                        ' 'LITHUANIA                     '\n",
      " 'IRAQ                          ' 'UKRAINE                       '\n",
      " 'NAMIBIA                       ' 'BOLIVIA                       '\n",
      " 'SRI LANKA                     ' 'LIECHTENSTEIN                 '\n",
      " 'MYANMAR                       ' 'MAURITIUS                     '\n",
      " 'NICARAGUA                     ' 'SAIPAN                        '\n",
      " 'GUATEMALA                     ' 'Northern Mariana Islands      '\n",
      " 'DOMINICAN REPUBLIC            ' 'LIBERIA                       '\n",
      " 'SWAZILAND                     ' 'AZERBAIJAN                    '\n",
      " 'SAINT LUCIA                   ' 'BOTSWANA                      '\n",
      " 'SENEGAL                       ' 'GUERNSEY                      '\n",
      " 'HONDURAS                      ' 'GUADELOUPE                    '\n",
      " 'ZIMBABWE                      ' 'MOZAMBIQUE                    ']\n"
     ]
    }
   ],
   "source": [
    "print(vol['SHIP_COUNTRY_NAME'].unique())"
   ]
  },
  {
   "cell_type": "markdown",
   "metadata": {},
   "source": [
    "We may be able to derive the Ship Country Name from other variables as we get to know our data better.  In the meantime, we'll treat it similarly to freight type and impute the missing values with \"Unknown.\"  Since we can also see that the cases of the characters in the strings are inconsistent (see: \"Northern Mariana Islands\") and there are trailing spaces at the end, we'll want to clean up the non-null values as well."
   ]
  },
  {
   "cell_type": "code",
   "execution_count": 11,
   "metadata": {},
   "outputs": [
    {
     "name": "stdout",
     "output_type": "stream",
     "text": [
      "['United States' 'Canada' 'United Kingdom' 'Japan' 'Australia' 'Singapore'\n",
      " 'Brazil' 'Malaysia' 'China' 'Taiwan' 'India' 'Antigua & Barbuda' 'Sweden'\n",
      " 'Foreign Purchase  (Usa)' 'South Korea' 'Netherlands' 'Chile'\n",
      " 'Philippines' 'Belgium' 'Italy' 'France' 'Mexico' 'Poland' 'Germany'\n",
      " 'Argentina' 'Switzerland' 'Vietnam' 'Peru' 'Colombia' 'Greece' 'Romania'\n",
      " 'Indonesia' 'Denmark' 'Panama' 'Russia' 'South Africa' 'Thailand'\n",
      " 'Kuwait' 'Egypt' 'Austria' 'Hong Kong' 'Virgin Islands (Us)'\n",
      " 'Czech Republic' 'Jamaica' 'Kazakhstan' 'Guam' 'Spain' 'Puerto Rico'\n",
      " 'New Zealand' 'Pakistan' 'Venezuela' 'Trinidad And Tobago' 'Ireland'\n",
      " 'Slovenia' 'Saudi Arabia' 'Unknown' 'Barbados' 'Tanzania' 'Cyprus'\n",
      " 'Finland' 'Portugal' 'Israel' 'Macedonia' 'Uruguay' 'Jordan' 'Turkey'\n",
      " 'Algeria' 'Qatar' 'United Arab Emirates' 'Norway' 'Costa Rica' 'Kenya'\n",
      " 'Bermuda' 'Cambodia' 'Croatia' 'Curacao' 'Cayman Islands' 'Bahamas'\n",
      " 'Ghana' 'Ecuador' 'Iran' 'Bahrain' 'Saint Kitts And Nevis' 'Libya'\n",
      " 'Latvia' 'Estonia' 'Us Minor Outlying Islands' 'Luxembourg' 'Iceland'\n",
      " 'Georgia' 'Sierra Leone' 'Bulgaria' 'Hungary' 'Morocco' 'Grenada'\n",
      " 'Brunei' 'Zambia' 'Afghanistan' 'Belarus' 'Bangladesh' 'Lebanon' 'Belize'\n",
      " 'Monaco' 'Nigeria' 'Greenland' 'Slovak Republic' 'Mongolia' 'Uganda'\n",
      " 'Jersey' 'Malta' 'Oman' 'El Salvador' 'Aruba' 'Serbia' 'Lithuania' 'Iraq'\n",
      " 'Ukraine' 'Namibia' 'Bolivia' 'Sri Lanka' 'Liechtenstein' 'Myanmar'\n",
      " 'Mauritius' 'Nicaragua' 'Saipan' 'Guatemala' 'Northern Mariana Islands'\n",
      " 'Dominican Republic' 'Liberia' 'Swaziland' 'Azerbaijan' 'Saint Lucia'\n",
      " 'Botswana' 'Senegal' 'Guernsey' 'Honduras' 'Guadeloupe' 'Zimbabwe'\n",
      " 'Mozambique']\n"
     ]
    }
   ],
   "source": [
    "vol['SHIP_COUNTRY_NAME'] = vol['SHIP_COUNTRY_NAME'].str.title().str.strip().fillna('Unknown')\n",
    "vol['SHIP_METHOD'] = vol['SHIP_METHOD'].str.strip()\n",
    "print(vol['SHIP_COUNTRY_NAME'].unique())"
   ]
  },
  {
   "cell_type": "markdown",
   "metadata": {},
   "source": [
    "Note that other text string fields in the volume dataset, such as \"Ship Method,\" have been cleansed of trailing spaces as well.\n",
    "\n",
    "Our freight dataset is entirely absent of missing values aside from the \"Product Group\" field.  \"Product Group\" is a 3PL created identifier that distinguishes between our test prep product and non-test prep product, but has only been implemented as a field several months ago (hence the null values).  Due to the incomplete nature of this field as well as the fact that it is a redundant variable (it is repeated in more detail by the \"Global Business\" field in the volume dataset), we can safely assume this field will not be used in the model and that it can therefore be left alone in terms of missing value treatment."
   ]
  },
  {
   "cell_type": "markdown",
   "metadata": {},
   "source": [
    "### Outliers\n",
    "\n",
    "Outlier treatment for these datasets will depend on the statistical summary of our variables.  See below for summary stats on each variable."
   ]
  },
  {
   "cell_type": "code",
   "execution_count": 12,
   "metadata": {},
   "outputs": [
    {
     "name": "stdout",
     "output_type": "stream",
     "text": [
      "        BOOK_WEIGHT  TOTAL_PALLETS  TOTAL_CARTONS   TOTAL_LOOSE   TOTAL_UNITS\n",
      "count  1.131645e+06   1.131645e+06   1.131645e+06  1.131645e+06  1.131645e+06\n",
      "mean   2.902273e+01   2.301959e-03   4.131746e-01  2.593339e+00  1.126777e+01\n",
      "std    2.730440e+01   1.700169e-01   2.357927e+00  5.239535e+00  1.130221e+02\n",
      "min    0.000000e+00   0.000000e+00   0.000000e+00  0.000000e+00  0.000000e+00\n",
      "25%    1.600000e+01   0.000000e+00   0.000000e+00  1.000000e+00  1.000000e+00\n",
      "50%    2.080000e+01   0.000000e+00   0.000000e+00  1.000000e+00  1.000000e+00\n",
      "75%    3.760000e+01   0.000000e+00   0.000000e+00  2.000000e+00  4.000000e+00\n",
      "max    9.037440e+03   8.600000e+01   1.200000e+02  2.400000e+03  3.825400e+04\n",
      "          SHIPWEIGHT    TOTALCHARGE\n",
      "count  129822.000000  129822.000000\n",
      "mean       36.403733      15.069798\n",
      "std       664.402469      56.250573\n",
      "min         0.000000    -241.040000\n",
      "25%         2.200000       5.071500\n",
      "50%         3.600000       6.980500\n",
      "75%         7.000000       9.982000\n",
      "max     90978.000000    4665.136000\n"
     ]
    }
   ],
   "source": [
    "print(vol.loc[:,['BOOK_WEIGHT','TOTAL_PALLETS','TOTAL_CARTONS','TOTAL_LOOSE','TOTAL_UNITS']].describe())\n",
    "print(freight.iloc[:,5:7].describe())"
   ]
  },
  {
   "cell_type": "markdown",
   "metadata": {},
   "source": [
    "For all continuous variables that are meant to function as numbers rather than identifiers (e.g. all continuous variables aside from invoice number and dates), distributions of data have been checked for outliers.  Although it cannot necessarily be intuited from the summary statistics, several of these variables have noticeable outliers.\n",
    "\n",
    "One of these variables is book weight, which appears to have a few (3) outliers above 8,000 ounces.  We can also see that 11,523 values are equal to zero, which should not be the case for a physical item.  For this variable, we will want to take a capping/flooring approach to outlier handling by imputing all low and high outliers with the 5th/95th percentiles, respectively."
   ]
  },
  {
   "cell_type": "code",
   "execution_count": 45,
   "metadata": {},
   "outputs": [
    {
     "data": {
      "image/png": "[encoded data removed]",
      "text/plain": [
       "<Figure size 432x288 with 1 Axes>"
      ]
     },
     "metadata": {
      "needs_background": "light"
     },
     "output_type": "display_data"
    },
    {
     "name": "stdout",
     "output_type": "stream",
     "text": [
      "Book weight by percentile\n",
      "0.00       0.00\n",
      "0.05       6.88\n",
      "0.10      10.40\n",
      "0.20      14.40\n",
      "0.30      16.80\n",
      "0.40      18.40\n",
      "0.50      20.80\n",
      "0.60      25.60\n",
      "0.70      32.80\n",
      "0.80      44.00\n",
      "0.90      53.60\n",
      "0.95      68.80\n",
      "1.00    9037.44\n",
      "Name: BOOK_WEIGHT, dtype: float64\n",
      "Book weight outliers > 8,000 and equal to 0\n",
      "3\n",
      "11523\n"
     ]
    },
    {
     "data": {
      "image/png": "[encoded data removed]",
      "text/plain": [
       "<Figure size 432x288 with 1 Axes>"
      ]
     },
     "metadata": {
      "needs_background": "light"
     },
     "output_type": "display_data"
    }
   ],
   "source": [
    "import matplotlib.pyplot as plt\n",
    "vol['BOOK_WEIGHT'].plot(kind= 'box',title='Boxplot of book weights per title')\n",
    "plt.show()\n",
    "print('Book weight by percentile')\n",
    "print(vol['BOOK_WEIGHT'].quantile([0,.05,.1,.2,.3,.4,.5,.6,.7,.8,.9,.95,1]))\n",
    "print('Book weight outliers > 8,000 and equal to 0')\n",
    "print((vol.loc[vol['BOOK_WEIGHT']>8000])['BOOK_WEIGHT'].count())\n",
    "print((vol.loc[vol['BOOK_WEIGHT']==0])['BOOK_WEIGHT'].count())\n",
    "\n",
    "vol['TOTAL_UNITS'].plot(kind= 'hist', bins=50, range=(0,150), alpha=0.5, title='Distribution of total units per invoice line')\n",
    "plt.show()"
   ]
  },
  {
   "cell_type": "markdown",
   "metadata": {},
   "source": [
    "In addition to book weight, we also have to check for outliers in our total units, total loose, total cartons, and total pallets fields.  It is worth noting that we will not be inspecting our carton quantity or cartons per pallet fields, since those fields cannot be aggregated to an invoice level and mainly exist to calculate cartons and pallets for each line.\n",
    "\n",
    "Although there are some zeroes in our pallets, cartons, and loose fields, this is normal and to be expected when translating unit numbers into pallets, cartons, and loose based on their dimensions.  There should not be zeroes in our total units column, but since this only represents 9 observations, it should be okay to leave them in the dataset.\n",
    "\n",
    "The same conclusion can be made for our outliers on the high side (above the 95th percentile).  Although these numbers are quite high, they do represent legitimately large shipments, and should therefore not be altered."
   ]
  },
  {
   "cell_type": "code",
   "execution_count": 43,
   "metadata": {},
   "outputs": [
    {
     "name": "stdout",
     "output_type": "stream",
     "text": [
      "      TOTAL_PALLETS  TOTAL_CARTONS  TOTAL_LOOSE  TOTAL_UNITS\n",
      "0.00            0.0            0.0          0.0          0.0\n",
      "0.05            0.0            0.0          0.0          1.0\n",
      "0.10            0.0            0.0          1.0          1.0\n",
      "0.20            0.0            0.0          1.0          1.0\n",
      "0.30            0.0            0.0          1.0          1.0\n",
      "0.40            0.0            0.0          1.0          1.0\n",
      "0.50            0.0            0.0          1.0          1.0\n",
      "0.60            0.0            0.0          1.0          2.0\n",
      "0.70            0.0            0.0          2.0          3.0\n",
      "0.80            0.0            0.0          3.0          6.0\n",
      "0.90            0.0            1.0          6.0         20.0\n",
      "0.95            0.0            2.0         10.0         36.0\n",
      "1.00           86.0          120.0       2400.0      38254.0\n"
     ]
    }
   ],
   "source": [
    "print(vol[['TOTAL_PALLETS','TOTAL_CARTONS','TOTAL_LOOSE','TOTAL_UNITS']].quantile([0,.05,.1,.2,.3,.4,.5,.6,.7,.8,.9,.95,1]))"
   ]
  },
  {
   "cell_type": "code",
   "execution_count": 15,
   "metadata": {},
   "outputs": [
    {
     "name": "stdout",
     "output_type": "stream",
     "text": [
      "count    1.131645e+06\n",
      "mean     2.777711e+01\n",
      "std      1.706760e+01\n",
      "min      6.880000e+00\n",
      "25%      1.600000e+01\n",
      "50%      2.080000e+01\n",
      "75%      3.760000e+01\n",
      "max      6.880000e+01\n",
      "Name: BOOK_WEIGHT, dtype: float64\n"
     ]
    }
   ],
   "source": [
    "# impute book weight outliers with 5th/95th percentiles\n",
    "vol['BOOK_WEIGHT'] = np.where(vol['BOOK_WEIGHT'] < vol['BOOK_WEIGHT'].quantile(.05), vol['BOOK_WEIGHT'].quantile(.05), vol['BOOK_WEIGHT'])\n",
    "vol['BOOK_WEIGHT'] = np.where(vol['BOOK_WEIGHT'] > vol['BOOK_WEIGHT'].quantile(.95), vol['BOOK_WEIGHT'].quantile(.95), vol['BOOK_WEIGHT'])\n",
    "print(vol['BOOK_WEIGHT'].describe())"
   ]
  },
  {
   "cell_type": "markdown",
   "metadata": {},
   "source": [
    "### Merging the Datasets\n",
    "\n",
    "Now that the data has been cleaned and checked for outliers, the volume data must be rolled up to an invoice level and then joined to the freight data.  We will do this by grouping by our invoice numbers, interface dates, and categorical variables, and then summarizing the continuous volume variables such as total lines, units, loose units, cartons, pallets, and weight before joining to the freight charge data.\n",
    "\n",
    "One slight complication to our volume data involves categorizing invoices by the owner of the product.  In this dataset, we have 31,165 unique ISBN10s, each of which rolls up to 71 unique product lines that indicate the type of product (Dummies books, Chemistry textbooks, etc) and each of these product lines rolls up to one of 5 global businesses (Trade, Education, Reference, Test Prep, and Agency).  Due to the fact that we regularly ship orders with multiple types of product in one shipment, we cannot necessarily allocate a single global business to each invoice.\n",
    "\n",
    "In order to accommodate this global business variable at an invoice level, we will pivot our total lines, units, loose, cartons, and pallets by global business, which widens our dataset whilst still preserving the information related to the product owner."
   ]
  },
  {
   "cell_type": "code",
   "execution_count": 50,
   "metadata": {},
   "outputs": [],
   "source": [
    "# pivot volume data based on invoice number & convert to dataframe\n",
    "idxcols = ['CJDAT1','IHINDT','IHAEDT','INVOICENO','COLLECT_METHOD','CARRIER_CODE','PRIORITY_CODE','SHIP_METHOD','FREIGHT_TYPE','SHIP_COUNTRY_NAME','MARKET_OUTLET']\n",
    "valcols = ['ISBN10','TOTAL_UNITS','TOTAL_PALLETS','TOTAL_CARTONS','TOTAL_LOOSE','BOOK_WEIGHT']\n",
    "dfvol = pd.pivot_table(vol, index=idxcols, columns=['GLOBAL_BUSINESS'], values=valcols, \n",
    "                       aggfunc={('ISBN10') : len,\n",
    "                                ('TOTAL_UNITS') : sum,\n",
    "                                ('TOTAL_PALLETS') : sum,\n",
    "                                ('TOTAL_CARTONS') : sum,\n",
    "                                ('TOTAL_LOOSE') : sum,\n",
    "                                ('BOOK_WEIGHT') : sum}, \n",
    "                                fill_value=0)\n",
    "dfvol = pd.DataFrame(dfvol)\n",
    "dfvol.reset_index(inplace=True)\n",
    "\n",
    "# remove multilevel column index & replace with concatenated column names using list comprehension\n",
    "cols = [str.strip(str.replace((key + ' ' + value),'ISBN10','TOTAL_LINES')) for key, value in dfvol.columns]\n",
    "dfvol.columns = dfvol.columns.get_level_values(0)\n",
    "dfvol.columns = cols\n",
    "\n",
    "# add columns for carton weight & totals\n",
    "dfvol['CARTON_WEIGHT Agency'] = dfvol['BOOK_WEIGHT Agency']*dfvol['TOTAL_UNITS Agency']\n",
    "dfvol['CARTON_WEIGHT Education'] = dfvol['BOOK_WEIGHT Education']*dfvol['TOTAL_UNITS Education']\n",
    "dfvol['CARTON_WEIGHT Reference'] = dfvol['BOOK_WEIGHT Reference']*dfvol['TOTAL_UNITS Reference']\n",
    "dfvol['CARTON_WEIGHT Test Prep'] = dfvol['BOOK_WEIGHT Test Prep']*dfvol['TOTAL_UNITS Test Prep']\n",
    "dfvol['CARTON_WEIGHT Trade'] = dfvol['BOOK_WEIGHT Trade']*dfvol['TOTAL_UNITS Trade']\n",
    "dfvol['TOTAL CARTONS Total'] = dfvol['TOTAL_CARTONS Agency']+dfvol['TOTAL_CARTONS Education']+dfvol['TOTAL_CARTONS Reference']+dfvol['TOTAL_CARTONS Test Prep']+dfvol['TOTAL_CARTONS Trade']\n",
    "dfvol['TOTAL LOOSE Total'] = dfvol['TOTAL_LOOSE Agency']+dfvol['TOTAL_LOOSE Education']+dfvol['TOTAL_LOOSE Reference']+dfvol['TOTAL_LOOSE Test Prep']+dfvol['TOTAL_LOOSE Trade']\n",
    "dfvol['TOTAL PALLETS Total']= dfvol['TOTAL_PALLETS Agency']+dfvol['TOTAL_PALLETS Education']+dfvol['TOTAL_PALLETS Reference']+dfvol['TOTAL_PALLETS Test Prep']+dfvol['TOTAL_PALLETS Trade']\n",
    "dfvol['TOTAL UNITS Total'] = dfvol['TOTAL_UNITS Agency']+dfvol['TOTAL_UNITS Education']+dfvol['TOTAL_UNITS Reference']+dfvol['TOTAL_UNITS Test Prep']+dfvol['TOTAL_UNITS Trade']\n",
    "dfvol['CARTON_WEIGHT Total'] = dfvol['CARTON_WEIGHT Agency']+dfvol['CARTON_WEIGHT Education']+dfvol['CARTON_WEIGHT Reference']+dfvol['CARTON_WEIGHT Test Prep']+dfvol['CARTON_WEIGHT Trade']"
   ]
  },
  {
   "cell_type": "markdown",
   "metadata": {},
   "source": [
    "Now that we have widened our volume dataset and rolled it up to an invoice level, we'll be joining it to the freight dataset on the invoice number and interface date fields.  This can be achieved with the Pandas merge function."
   ]
  },
  {
   "cell_type": "code",
   "execution_count": 49,
   "metadata": {},
   "outputs": [
    {
     "name": "stdout",
     "output_type": "stream",
     "text": [
      "<class 'pandas.core.frame.DataFrame'>\n",
      "RangeIndex: 412027 entries, 0 to 412026\n",
      "Data columns (total 51 columns):\n",
      "CJDAT1                     412027 non-null int64\n",
      "IHINDT                     412027 non-null int64\n",
      "IHAEDT                     412027 non-null int64\n",
      "INVOICENO                  412027 non-null int64\n",
      "COLLECT_METHOD             412027 non-null object\n",
      "CARRIER_CODE               412027 non-null object\n",
      "PRIORITY_CODE              412027 non-null object\n",
      "SHIP_METHOD                412027 non-null object\n",
      "FREIGHT_TYPE               412027 non-null object\n",
      "SHIP_COUNTRY_NAME          412027 non-null object\n",
      "MARKET_OUTLET              412027 non-null int64\n",
      "BOOK_WEIGHT Agency         412027 non-null float64\n",
      "BOOK_WEIGHT Education      412027 non-null float64\n",
      "BOOK_WEIGHT Reference      412027 non-null float64\n",
      "BOOK_WEIGHT Test Prep      412027 non-null float64\n",
      "BOOK_WEIGHT Trade          412027 non-null float64\n",
      "TOTAL_LINES Agency         412027 non-null int64\n",
      "TOTAL_LINES Education      412027 non-null int64\n",
      "TOTAL_LINES Reference      412027 non-null int64\n",
      "TOTAL_LINES Test Prep      412027 non-null int64\n",
      "TOTAL_LINES Trade          412027 non-null int64\n",
      "TOTAL_CARTONS Agency       412027 non-null int64\n",
      "TOTAL_CARTONS Education    412027 non-null int64\n",
      "TOTAL_CARTONS Reference    412027 non-null int64\n",
      "TOTAL_CARTONS Test Prep    412027 non-null int64\n",
      "TOTAL_CARTONS Trade        412027 non-null int64\n",
      "TOTAL_LOOSE Agency         412027 non-null int64\n",
      "TOTAL_LOOSE Education      412027 non-null int64\n",
      "TOTAL_LOOSE Reference      412027 non-null int64\n",
      "TOTAL_LOOSE Test Prep      412027 non-null int64\n",
      "TOTAL_LOOSE Trade          412027 non-null int64\n",
      "TOTAL_PALLETS Agency       412027 non-null int64\n",
      "TOTAL_PALLETS Education    412027 non-null int64\n",
      "TOTAL_PALLETS Reference    412027 non-null int64\n",
      "TOTAL_PALLETS Test Prep    412027 non-null int64\n",
      "TOTAL_PALLETS Trade        412027 non-null int64\n",
      "TOTAL_UNITS Agency         412027 non-null int64\n",
      "TOTAL_UNITS Education      412027 non-null int64\n",
      "TOTAL_UNITS Reference      412027 non-null int64\n",
      "TOTAL_UNITS Test Prep      412027 non-null int64\n",
      "TOTAL_UNITS Trade          412027 non-null int64\n",
      "CARTON_WEIGHT Agency       412027 non-null float64\n",
      "CARTON_WEIGHT Education    412027 non-null float64\n",
      "CARTON_WEIGHT Reference    412027 non-null float64\n",
      "CARTON_WEIGHT Test Prep    412027 non-null float64\n",
      "CARTON_WEIGHT Trade        412027 non-null float64\n",
      "TOTAL CARTONS Total        412027 non-null int64\n",
      "TOTAL LOOSE Total          412027 non-null int64\n",
      "TOTAL PALLETS Total        412027 non-null int64\n",
      "TOTAL UNITS Total          412027 non-null int64\n",
      "CARTON_WEIGHT Total        412027 non-null float64\n",
      "dtypes: float64(11), int64(34), object(6)\n",
      "memory usage: 160.3+ MB\n",
      "None\n"
     ]
    }
   ],
   "source": [
    "# join vol data to freight data\n",
    "dffreight = freight[['INVNUMBER','INTDATE','TOTALCHARGE']]\n",
    "df1 = pd.merge(left=dfvol, right=dffreight, how='left', left_on=['INVOICENO','CJDAT1'], right_on=['INVNUMBER','INTDATE'],copy=False)\n",
    "df1['TOTALCHARGE'] = df1['TOTALCHARGE'].fillna(0)\n",
    "df1 = df1.drop(columns=['INVNUMBER','INTDATE'],axis=1)\n",
    "\n",
    "# view revised dataframe\n",
    "print(dfvol.info())"
   ]
  },
  {
   "cell_type": "markdown",
   "metadata": {},
   "source": [
    "### Final Dataset\n",
    "\n",
    "To review, we have used a combination of Pandas, Numpy, and Matplotlib to clean and wrangle our datasets into one final dataframe.  We read in our freight and volume data from 5 csv files, consolidated them into two files, and found our initial data types for each variable to be correctly interpreted by the read_csv function.  We found two variables to have a number of missing variables--the first of which (freight type) we replaced with a value of \"Unknown,\" and the second we left alone as this variable was to be removed from the final dataset due to it being a redundant field.  We treated one variable (book weight) for outliers by taking a capping/flooring approach to imputing those values.  Finally, we pivoted our volume dataset by global business, added a number of subtotals, and rolled up to the invoice level before merging with our freight dataset to create one final dataframe for analysis (df1)."
   ]
  },
  {
   "cell_type": "code",
   "execution_count": null,
   "metadata": {},
   "outputs": [],
   "source": []
  }
 ],
 "metadata": {
  "kernelspec": {
   "display_name": "Python 3",
   "language": "python",
   "name": "python3"
  },
  "language_info": {
   "codemirror_mode": {
    "name": "ipython",
    "version": 3
   },
   "file_extension": ".py",
   "mimetype": "text/x-python",
   "name": "python",
   "nbconvert_exporter": "python",
   "pygments_lexer": "ipython3",
   "version": "3.7.0"
  }
 },
 "nbformat": 4,
 "nbformat_minor": 2
}
